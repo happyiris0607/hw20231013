{
  "nbformat": 4,
  "nbformat_minor": 0,
  "metadata": {
    "colab": {
      "provenance": []
    },
    "kernelspec": {
      "name": "python3",
      "display_name": "Python 3"
    },
    "language_info": {
      "name": "python"
    }
  },
  "cells": [
    {
      "cell_type": "code",
      "execution_count": 2,
      "metadata": {
        "colab": {
          "base_uri": "https://localhost:8080/"
        },
        "id": "ZxiNeS-05lHi",
        "outputId": "c329717f-434a-4f0e-b7d9-dc19378e581f"
      },
      "outputs": [
        {
          "output_type": "stream",
          "name": "stdout",
          "text": [
            "3\n",
            "<class 'int'>\n"
          ]
        }
      ],
      "source": [
        "a=1\n",
        "b=2\n",
        "fruits=[\"apple\",\"orange\",\"cherry\"]\n",
        "fruits.append(\"orange\")#新增元素\n",
        "fruits.remove(\"apple\")#移除元素\n",
        "\n",
        "mydict=[\"name\":\"Iris\",\"age\":\"18\"]\n",
        "mydict[\"major\"]=\"Chinese medicine\" #新增鍵值對\n",
        "del mydict[\"age\"] #刪除鍵值對\n",
        "\n",
        "\n",
        "\n",
        "keys=mydict.keys() #取得所有索引\n",
        "values=mydict.values() #取得所有數值\n",
        "\n",
        "print(a+b)\n",
        "print(type(a))"
      ]
    },
    {
      "cell_type": "code",
      "source": [
        "name=\"黃亞媛\"\n",
        "print(type(name))\n",
        "code=\"B1205028\"\n",
        "print(type(code))\n",
        "print(f\"My name is {name} and my code is {code}.\")\n",
        "mydict={\"name\":\"黃亞媛\",\"code\":\"B1205028\"}\n",
        "print(mydict)\n"
      ],
      "metadata": {
        "colab": {
          "base_uri": "https://localhost:8080/"
        },
        "id": "MlUWufdz-G9F",
        "outputId": "c9c24073-deb3-4707-81d0-17b4b066deb6"
      },
      "execution_count": 13,
      "outputs": [
        {
          "output_type": "stream",
          "name": "stdout",
          "text": [
            "<class 'str'>\n",
            "<class 'str'>\n",
            "My name is 黃亞媛 and my code is B1205028.\n",
            "{'name': '黃亞媛', 'code': 'B1205028'}\n"
          ]
        }
      ]
    }
  ]
}